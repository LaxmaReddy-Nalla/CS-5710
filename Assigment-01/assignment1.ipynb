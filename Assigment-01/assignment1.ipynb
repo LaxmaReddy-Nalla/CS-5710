{
 "cells": [
  {
   "cell_type": "markdown",
   "metadata": {},
   "source": [
    "# question 1"
   ]
  },
  {
   "cell_type": "code",
   "execution_count": 9,
   "metadata": {},
   "outputs": [
    {
     "name": "stdout",
     "output_type": "stream",
     "text": [
      "Sorted List values:  [19, 19, 20, 22, 24, 24, 24, 25, 25, 26]\n",
      "Maximum Age is 19 and Maximum age is 26\n",
      "list after adding min and max values:  [19, 19, 20, 22, 24, 24, 24, 25, 25, 26, 19, 26]\n",
      "24.0\n",
      "22.75\n",
      "7\n"
     ]
    }
   ],
   "source": [
    "import math\n",
    "# given list of 10 students age\n",
    "ages = [19, 22, 19, 24, 20, 25, 26, 24, 25, 24]\n",
    "\n",
    "# 1) sorting list values and finding min, max values of ages\n",
    "## step 1: Sorting list values\n",
    "sorted_ages = sorted(ages)\n",
    "print(\"Sorted List values: \",sorted_ages)\n",
    "## step 2: Finding min and max values\n",
    "min_age = min(sorted_ages)\n",
    "max_age = max(sorted_ages)\n",
    "print(f\"Maximum Age is {min_age} and Maximum age is {max_age}\" )\n",
    "## Adding min and max values to list again\n",
    "sorted_ages.extend([min_age, max_age])\n",
    "print(\"list after adding min and max values: \", sorted_ages)\n",
    "## Finding median age of list\n",
    "sorted_ages = sorted(sorted_ages)\n",
    "n = math.floor(len(sorted_ages))\n",
    "median = (sorted_ages[int(n/2)] + sorted_ages[int(n/2)+1])/2\n",
    "print(median)\n",
    "\n",
    "## Finding Average age\n",
    "avg_age = sum(sorted_ages)/len(sorted_ages)\n",
    "print(avg_age)\n",
    "## finding Range of list \n",
    "range_ages = max(sorted_ages) - min(sorted_ages)\n",
    "print(range_ages)"
   ]
  },
  {
   "cell_type": "markdown",
   "metadata": {},
   "source": [
    "# Question 2"
   ]
  },
  {
   "cell_type": "code",
   "execution_count": 10,
   "metadata": {},
   "outputs": [
    {
     "name": "stdout",
     "output_type": "stream",
     "text": [
      "Length of student dictionary: 9\n",
      "['python', 'ruby', 'node.js'] Data type:  <class 'list'>\n",
      "{'first_name': 'Jhon', 'last_name': 'Pal', 'gender': 'Male', 'age': 22, 'marital status': 'Single', 'skills': ['python', 'ruby', 'node.js', 'java', 'html'], 'country': 'USA', 'city': 'St.petersburg', 'address': '4532 west, 124th st, kp town, 65342'}\n",
      "dict_keys(['first_name', 'last_name', 'gender', 'age', 'marital status', 'skills', 'country', 'city', 'address'])\n",
      "dict_values(['Jhon', 'Pal', 'Male', 22, 'Single', ['python', 'ruby', 'node.js', 'java', 'html'], 'USA', 'St.petersburg', '4532 west, 124th st, kp town, 65342'])\n"
     ]
    }
   ],
   "source": [
    "\n",
    "## creating an empty dictionary named dog\n",
    "dog = {}\n",
    "dog.update({'Name': 'Scoopy', 'Color': 'Brown', 'Breed':'German Shepard', 'Legs': 4, 'Age': 3})\n",
    "student = {'first_name': 'Jhon', 'last_name': 'Pal', 'gender' : 'Male', 'age': 22, 'marital status' : 'Single', 'skills': ['python', 'ruby', 'node.js'], 'country': 'USA', 'city' : 'St.petersburg' , 'address': '4532 west, 124th st, kp town, 65342'}\n",
    "## printing length of student dictionary \n",
    "print(\"Length of student dictionary:\",len(student))\n",
    "## listing values of skills and checking data type\n",
    "print(student['skills'], \"Data type: \", type(student['skills']))\n",
    "## modifying skills in student dictionary\n",
    "student['skills'].extend(['java', 'html'])\n",
    "print(student)\n",
    "## Printing dictionary keys as list\n",
    "print(student.keys())\n",
    "## Printing student dictionary values as list\n",
    "print(student.values())"
   ]
  },
  {
   "cell_type": "markdown",
   "metadata": {},
   "source": [
    "# Question 3"
   ]
  },
  {
   "cell_type": "code",
   "execution_count": 11,
   "metadata": {},
   "outputs": [
    {
     "name": "stdout",
     "output_type": "stream",
     "text": [
      "Brothers:  ('Jhon', 'Jimmy', 'Michel') Sisters:  ('Lara', 'Roosi')\n",
      "Concatnation of brothers and sisters:  ('Jhon', 'Jimmy', 'Michel', 'Lara', 'Roosi')\n",
      "No of Siblings : 5\n",
      "Family tuple:  ('Jhon', 'Jimmy', 'Michel', 'Lara', 'Roosi', 'Mike', 'Joo')\n"
     ]
    }
   ],
   "source": [
    "## create brothers and sisters tuple \n",
    "brothers = ('Jhon', 'Jimmy', 'Michel')\n",
    "sisters = ('Lara', 'Roosi')\n",
    "print(\"Brothers: \",brothers,\"Sisters: \", sisters)\n",
    "## adding brothers and sisters into sublings\n",
    "siblings = brothers + sisters\n",
    "print(\"Concatnation of brothers and sisters: \",siblings)\n",
    "# length of siblings\n",
    "print(\"No of Siblings :\", len(siblings))\n",
    "# adding father mother and siblings to family tuple\n",
    "family = siblings + ('Mike', 'Joo')\n",
    "print(\"Family tuple: \",family)"
   ]
  },
  {
   "cell_type": "markdown",
   "metadata": {},
   "source": [
    "# Question 4"
   ]
  },
  {
   "cell_type": "code",
   "execution_count": 12,
   "metadata": {},
   "outputs": [
    {
     "name": "stdout",
     "output_type": "stream",
     "text": [
      "Length of it_companies:  7\n",
      "Added Twitter company to it_companies:  {'Twitter', 'IBM', 'Microsoft', 'Oracle', 'Facebook', 'Apple', 'Amazon', 'Google'}\n",
      "Added multiple IT companies:  {'Microsoft', 'Neura Link', 'Facebook', 'Apple', 'Capital One', 'Twitter', 'IBM', 'Oracle', 'TCS', 'Amazon', 'Google'}\n",
      "{'Microsoft', 'Neura Link', 'Facebook', 'Apple', 'Twitter', 'IBM', 'Oracle', 'TCS', 'Amazon', 'Google'}\n",
      "Added A & B sets:  {19, 20, 22, 24, 25, 26}\n",
      "A intersection B:  {19, 20, 22, 24, 25, 26}\n",
      "True\n",
      "False\n",
      "Joining set A with B:  {19, 20, 22, 24, 25, 26}\n",
      "Joining B with A:  {19, 20, 22, 24, 25, 26, 27, 28}\n",
      "{19, 20, 22, 24, 25, 26}\n",
      "False\n"
     ]
    },
    {
     "ename": "NameError",
     "evalue": "name 'A' is not defined",
     "output_type": "error",
     "traceback": [
      "\u001b[1;31m---------------------------------------------------------------------------\u001b[0m",
      "\u001b[1;31mNameError\u001b[0m                                 Traceback (most recent call last)",
      "\u001b[1;32mc:\\Users\\Reddy\\Desktop\\FALL 2022\\Machine_learning\\Assigments\\Assigment-01\\assignment1.ipynb Cell 8\u001b[0m in \u001b[0;36m<cell line: 46>\u001b[1;34m()\u001b[0m\n\u001b[0;32m     <a href='vscode-notebook-cell:/c%3A/Users/Reddy/Desktop/FALL%202022/Machine_learning/Assigments/Assigment-01/assignment1.ipynb#X12sZmlsZQ%3D%3D?line=43'>44</a>\u001b[0m \u001b[39m# deleting set A and set B\u001b[39;00m\n\u001b[0;32m     <a href='vscode-notebook-cell:/c%3A/Users/Reddy/Desktop/FALL%202022/Machine_learning/Assigments/Assigment-01/assignment1.ipynb#X12sZmlsZQ%3D%3D?line=44'>45</a>\u001b[0m \u001b[39mdel\u001b[39;00m(A)\n\u001b[1;32m---> <a href='vscode-notebook-cell:/c%3A/Users/Reddy/Desktop/FALL%202022/Machine_learning/Assigments/Assigment-01/assignment1.ipynb#X12sZmlsZQ%3D%3D?line=45'>46</a>\u001b[0m \u001b[39mprint\u001b[39m(A)\n\u001b[0;32m     <a href='vscode-notebook-cell:/c%3A/Users/Reddy/Desktop/FALL%202022/Machine_learning/Assigments/Assigment-01/assignment1.ipynb#X12sZmlsZQ%3D%3D?line=46'>47</a>\u001b[0m \u001b[39mdel\u001b[39;00m(B)\n\u001b[0;32m     <a href='vscode-notebook-cell:/c%3A/Users/Reddy/Desktop/FALL%202022/Machine_learning/Assigments/Assigment-01/assignment1.ipynb#X12sZmlsZQ%3D%3D?line=47'>48</a>\u001b[0m \u001b[39mprint\u001b[39m(B)\n",
      "\u001b[1;31mNameError\u001b[0m: name 'A' is not defined"
     ]
    }
   ],
   "source": [
    "it_companies = {'Facebook', 'Google', 'Microsoft', 'Apple', 'IBM', 'Oracle', 'Amazon'}\n",
    "A = {19, 22, 24, 20, 25, 26}\n",
    "B = {19, 22, 20, 25, 26, 24, 28, 27}\n",
    "age = [22, 19, 24, 25, 26, 24, 25, 24]\n",
    "# printing length of it_companies\n",
    "print(\"Length of it_companies: \", len(it_companies))\n",
    "# adding Twitter to it_companies\n",
    "it_companies.add('Twitter')\n",
    "print(\"Added Twitter company to it_companies: \", it_companies)\n",
    "# adding multiple it_companies\n",
    "it_companies.update({'Capital One', 'Neura Link', 'TCS'})\n",
    "print(\"Added multiple IT companies: \",it_companies)\n",
    "# removing Capital one from it_companies\n",
    "it_companies.remove('Capital One')\n",
    "print(it_companies)\n",
    "# Joining two sets\n",
    "A.union(B)\n",
    "print(\"Added A & B sets: \", A)\n",
    "\n",
    "# Intersection b/w A and B\n",
    "intersectionAB = A.intersection(B)\n",
    "print(\"A intersection B: \", intersectionAB)\n",
    "\n",
    "# finding subset and disjoint set\n",
    "print(A.issubset(B))\n",
    "print(A.isdisjoint(B))\n",
    "\n",
    "# joining A with B and B with A\n",
    "A.union(B)\n",
    "print(\"Joining set A with B: \",A)\n",
    "\n",
    "B.union(A)\n",
    "print(\"Joining B with A: \", B)\n",
    "\n",
    "# finding symmetric difference\n",
    "A.symmetric_difference(B)\n",
    "print(A)\n",
    "\n",
    "# converting age list to set anf comparing list and set of age\n",
    "age_set = set(age)\n",
    "\n",
    "print(len(age) == len(age_set))\n",
    "\n",
    "# deleting set A and set B\n",
    "del(A)\n",
    "print(A)\n",
    "del(B)\n",
    "print(B)"
   ]
  },
  {
   "cell_type": "markdown",
   "metadata": {},
   "source": [
    "# question 5"
   ]
  },
  {
   "cell_type": "code",
   "execution_count": 13,
   "metadata": {},
   "outputs": [
    {
     "name": "stdout",
     "output_type": "stream",
     "text": [
      "2827.4333882308138\n"
     ]
    }
   ],
   "source": [
    "import math\n",
    "# calculate area of circle with static radius\n",
    "Radius = 30\n",
    "_area_of_circle_ = math.pi * (Radius**2)\n",
    "print(_area_of_circle_)"
   ]
  },
  {
   "cell_type": "code",
   "execution_count": 14,
   "metadata": {},
   "outputs": [
    {
     "name": "stdout",
     "output_type": "stream",
     "text": [
      "188.49555921538757\n"
     ]
    }
   ],
   "source": [
    "# calculating circumference of circle\n",
    "_circum_of_circle_ = 2* math.pi * Radius\n",
    "print(_circum_of_circle_)"
   ]
  },
  {
   "cell_type": "code",
   "execution_count": 16,
   "metadata": {},
   "outputs": [
    {
     "name": "stdout",
     "output_type": "stream",
     "text": [
      "706.8583470577034\n"
     ]
    }
   ],
   "source": [
    "# calculating area of circle with user input radius\n",
    "user_radius = int(input(\"Enter Radius for circle: \"))\n",
    "area_of_circle = math.pi *(user_radius**2)\n",
    "print(area_of_circle)"
   ]
  },
  {
   "cell_type": "markdown",
   "metadata": {},
   "source": [
    "# question 6"
   ]
  },
  {
   "cell_type": "code",
   "execution_count": 17,
   "metadata": {},
   "outputs": [
    {
     "name": "stdout",
     "output_type": "stream",
     "text": [
      "No of unique words are:  10\n"
     ]
    }
   ],
   "source": [
    "# finding count of unique values in given string\n",
    "string = \"I am a teacher and I love to inspire and teach people\"\n",
    "set_words = set(string.split(\" \"))\n",
    "print(\"No of unique words are: \", len(set_words))"
   ]
  },
  {
   "cell_type": "markdown",
   "metadata": {},
   "source": [
    "# Question 7"
   ]
  },
  {
   "cell_type": "code",
   "execution_count": 18,
   "metadata": {},
   "outputs": [
    {
     "name": "stdout",
     "output_type": "stream",
     "text": [
      "Name\tAge\tCountry\tCity\n",
      "Asabeneh\t250\tFinland\tHelsinki\n"
     ]
    }
   ],
   "source": [
    "# using \\t and \\n to print tab seperated values\n",
    "print(\"Name\\tAge\\tCountry\\tCity\\nAsabeneh\\t250\\tFinland\\tHelsinki\")"
   ]
  },
  {
   "cell_type": "markdown",
   "metadata": {},
   "source": [
    "# Question 8"
   ]
  },
  {
   "cell_type": "code",
   "execution_count": 19,
   "metadata": {},
   "outputs": [
    {
     "name": "stdout",
     "output_type": "stream",
     "text": [
      "The area of circle with 10 is 314 meters square\n"
     ]
    }
   ],
   "source": [
    "# printing text using string format method\n",
    "radius = 10\n",
    "area = 3.14 * radius**2\n",
    "print(\"The area of circle with {} is {} meters square\".format(radius, int(area)))"
   ]
  },
  {
   "cell_type": "markdown",
   "metadata": {},
   "source": [
    "# Question 9"
   ]
  },
  {
   "cell_type": "code",
   "execution_count": 20,
   "metadata": {},
   "outputs": [
    {
     "name": "stdout",
     "output_type": "stream",
     "text": [
      "Weights in Lbs:  [120, 140, 160, 150]\n",
      "Weights in Kgs:  [54.480000000000004, 63.56, 72.64, 68.10000000000001]\n"
     ]
    }
   ],
   "source": [
    "# converting lbs to kgs by taking user input for number student and weight in lbs for student respectively\n",
    "n = int(input(\"Enter no of students: \"))\n",
    "lbs_weights = []\n",
    "count = 0\n",
    "while count < n:\n",
    "    lb_w = int(input(\"Enter student weight: \"))\n",
    "    lbs_weights.append(lb_w)\n",
    "    count += 1\n",
    "print(\"Weights in Lbs: \", lbs_weights)\n",
    "kgs_weights = []\n",
    "for i in lbs_weights:\n",
    "    kg_w = i*0.454\n",
    "    kgs_weights.append(kg_w)\n",
    "print(\"Weights in Kgs: \", kgs_weights)"
   ]
  },
  {
   "cell_type": "code",
   "execution_count": null,
   "metadata": {},
   "outputs": [],
   "source": []
  }
 ],
 "metadata": {
  "kernelspec": {
   "display_name": "Python 3.10.6 ('env')",
   "language": "python",
   "name": "python3"
  },
  "language_info": {
   "codemirror_mode": {
    "name": "ipython",
    "version": 3
   },
   "file_extension": ".py",
   "mimetype": "text/x-python",
   "name": "python",
   "nbconvert_exporter": "python",
   "pygments_lexer": "ipython3",
   "version": "3.10.6"
  },
  "orig_nbformat": 4,
  "vscode": {
   "interpreter": {
    "hash": "8b8dd6e954a031bf6a6b232774109d5b70b8969ce5c2b56ca78c66bf74ed287c"
   }
  }
 },
 "nbformat": 4,
 "nbformat_minor": 2
}
